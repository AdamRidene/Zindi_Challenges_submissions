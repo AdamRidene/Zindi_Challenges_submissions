{
  "nbformat": 4,
  "nbformat_minor": 0,
  "metadata": {
    "colab": {
      "provenance": [],
      "authorship_tag": "ABX9TyOLzcK3XGg++Du7mqjzo8fN",
      "include_colab_link": true
    },
    "kernelspec": {
      "name": "python3",
      "display_name": "Python 3"
    },
    "language_info": {
      "name": "python"
    }
  },
  "cells": [
    {
      "cell_type": "markdown",
      "metadata": {
        "id": "view-in-github",
        "colab_type": "text"
      },
      "source": [
        "<a href=\"https://colab.research.google.com/github/AdamRidene/Zindi_Challenges_submissions/blob/main/Flight_Delay_Prediction_Zindi_Challenge.ipynb\" target=\"_parent\"><img src=\"https://colab.research.google.com/assets/colab-badge.svg\" alt=\"Open In Colab\"/></a>"
      ]
    },
    {
      "cell_type": "code",
      "source": [
        "import pandas as pd\n",
        "import numpy as np"
      ],
      "metadata": {
        "id": "67DP4SP3F-2X"
      },
      "execution_count": null,
      "outputs": []
    },
    {
      "cell_type": "code",
      "source": [
        "pip install -q lightgbm xgboost"
      ],
      "metadata": {
        "id": "8i5Tne-ZEhAR"
      },
      "execution_count": null,
      "outputs": []
    },
    {
      "cell_type": "code",
      "source": [
        "dataset=pd.read_csv(\"/content/Train (1).csv\")"
      ],
      "metadata": {
        "id": "F1QGjH0OGIx0"
      },
      "execution_count": null,
      "outputs": []
    },
    {
      "cell_type": "markdown",
      "source": [
        "### Checking Data"
      ],
      "metadata": {
        "id": "jNjNa6eO2cCN"
      }
    },
    {
      "cell_type": "code",
      "source": [
        "dataset.info()"
      ],
      "metadata": {
        "colab": {
          "base_uri": "https://localhost:8080/"
        },
        "id": "0yRJCkDDGnk0",
        "outputId": "191b86c5-dae6-46b9-e0e2-fedcaa8f5251"
      },
      "execution_count": null,
      "outputs": [
        {
          "output_type": "stream",
          "name": "stdout",
          "text": [
            "<class 'pandas.core.frame.DataFrame'>\n",
            "RangeIndex: 107833 entries, 0 to 107832\n",
            "Data columns (total 10 columns):\n",
            " #   Column  Non-Null Count   Dtype  \n",
            "---  ------  --------------   -----  \n",
            " 0   ID      107833 non-null  object \n",
            " 1   DATOP   107833 non-null  object \n",
            " 2   FLTID   107833 non-null  object \n",
            " 3   DEPSTN  107833 non-null  object \n",
            " 4   ARRSTN  107833 non-null  object \n",
            " 5   STD     107833 non-null  object \n",
            " 6   STA     107833 non-null  object \n",
            " 7   STATUS  107833 non-null  object \n",
            " 8   AC      107833 non-null  object \n",
            " 9   target  107833 non-null  float64\n",
            "dtypes: float64(1), object(9)\n",
            "memory usage: 8.2+ MB\n"
          ]
        }
      ]
    },
    {
      "cell_type": "code",
      "source": [
        "dataset.tail()"
      ],
      "metadata": {
        "colab": {
          "base_uri": "https://localhost:8080/",
          "height": 206
        },
        "id": "6BHmxPjnGw9y",
        "outputId": "99db7617-aff1-49d1-df0f-8185af4dea81"
      },
      "execution_count": null,
      "outputs": [
        {
          "output_type": "execute_result",
          "data": {
            "text/plain": [
              "                     ID       DATOP      FLTID DEPSTN ARRSTN  \\\n",
              "107828  train_id_107828  2018-07-05  WKL 0000     TUN    TUN   \n",
              "107829  train_id_107829  2018-01-13   UG 0003     DJE    TUN   \n",
              "107830  train_id_107830  2018-11-07  SGT 0000     TUN    TUN   \n",
              "107831  train_id_107831  2018-01-23   UG 0010     TUN    DJE   \n",
              "107832  train_id_107832  2018-11-13   UG 0002     TUN    DJE   \n",
              "\n",
              "                        STD                  STA STATUS         AC  target  \n",
              "107828  2018-07-05 23:00:00  2018-07-06 02.00.00    SCH  TU 32AIML     0.0  \n",
              "107829  2018-01-13 08:00:00  2018-01-13 09.00.00    SCH  UG AT7AT7     0.0  \n",
              "107830  2018-11-07 05:00:00  2018-11-07 12.50.00    SCH  TU 736IOK     0.0  \n",
              "107831  2018-01-23 18:00:00  2018-01-23 18.45.00    ATA  TU CR9ISA     0.0  \n",
              "107832  2018-11-13 06:15:00  2018-11-13 07.05.00    SCH  TU CR9ISA     0.0  "
            ],
            "text/html": [
              "\n",
              "  <div id=\"df-86a47f9c-162f-46da-9975-526a8bb3bd8a\" class=\"colab-df-container\">\n",
              "    <div>\n",
              "<style scoped>\n",
              "    .dataframe tbody tr th:only-of-type {\n",
              "        vertical-align: middle;\n",
              "    }\n",
              "\n",
              "    .dataframe tbody tr th {\n",
              "        vertical-align: top;\n",
              "    }\n",
              "\n",
              "    .dataframe thead th {\n",
              "        text-align: right;\n",
              "    }\n",
              "</style>\n",
              "<table border=\"1\" class=\"dataframe\">\n",
              "  <thead>\n",
              "    <tr style=\"text-align: right;\">\n",
              "      <th></th>\n",
              "      <th>ID</th>\n",
              "      <th>DATOP</th>\n",
              "      <th>FLTID</th>\n",
              "      <th>DEPSTN</th>\n",
              "      <th>ARRSTN</th>\n",
              "      <th>STD</th>\n",
              "      <th>STA</th>\n",
              "      <th>STATUS</th>\n",
              "      <th>AC</th>\n",
              "      <th>target</th>\n",
              "    </tr>\n",
              "  </thead>\n",
              "  <tbody>\n",
              "    <tr>\n",
              "      <th>107828</th>\n",
              "      <td>train_id_107828</td>\n",
              "      <td>2018-07-05</td>\n",
              "      <td>WKL 0000</td>\n",
              "      <td>TUN</td>\n",
              "      <td>TUN</td>\n",
              "      <td>2018-07-05 23:00:00</td>\n",
              "      <td>2018-07-06 02.00.00</td>\n",
              "      <td>SCH</td>\n",
              "      <td>TU 32AIML</td>\n",
              "      <td>0.0</td>\n",
              "    </tr>\n",
              "    <tr>\n",
              "      <th>107829</th>\n",
              "      <td>train_id_107829</td>\n",
              "      <td>2018-01-13</td>\n",
              "      <td>UG 0003</td>\n",
              "      <td>DJE</td>\n",
              "      <td>TUN</td>\n",
              "      <td>2018-01-13 08:00:00</td>\n",
              "      <td>2018-01-13 09.00.00</td>\n",
              "      <td>SCH</td>\n",
              "      <td>UG AT7AT7</td>\n",
              "      <td>0.0</td>\n",
              "    </tr>\n",
              "    <tr>\n",
              "      <th>107830</th>\n",
              "      <td>train_id_107830</td>\n",
              "      <td>2018-11-07</td>\n",
              "      <td>SGT 0000</td>\n",
              "      <td>TUN</td>\n",
              "      <td>TUN</td>\n",
              "      <td>2018-11-07 05:00:00</td>\n",
              "      <td>2018-11-07 12.50.00</td>\n",
              "      <td>SCH</td>\n",
              "      <td>TU 736IOK</td>\n",
              "      <td>0.0</td>\n",
              "    </tr>\n",
              "    <tr>\n",
              "      <th>107831</th>\n",
              "      <td>train_id_107831</td>\n",
              "      <td>2018-01-23</td>\n",
              "      <td>UG 0010</td>\n",
              "      <td>TUN</td>\n",
              "      <td>DJE</td>\n",
              "      <td>2018-01-23 18:00:00</td>\n",
              "      <td>2018-01-23 18.45.00</td>\n",
              "      <td>ATA</td>\n",
              "      <td>TU CR9ISA</td>\n",
              "      <td>0.0</td>\n",
              "    </tr>\n",
              "    <tr>\n",
              "      <th>107832</th>\n",
              "      <td>train_id_107832</td>\n",
              "      <td>2018-11-13</td>\n",
              "      <td>UG 0002</td>\n",
              "      <td>TUN</td>\n",
              "      <td>DJE</td>\n",
              "      <td>2018-11-13 06:15:00</td>\n",
              "      <td>2018-11-13 07.05.00</td>\n",
              "      <td>SCH</td>\n",
              "      <td>TU CR9ISA</td>\n",
              "      <td>0.0</td>\n",
              "    </tr>\n",
              "  </tbody>\n",
              "</table>\n",
              "</div>\n",
              "    <div class=\"colab-df-buttons\">\n",
              "\n",
              "  <div class=\"colab-df-container\">\n",
              "    <button class=\"colab-df-convert\" onclick=\"convertToInteractive('df-86a47f9c-162f-46da-9975-526a8bb3bd8a')\"\n",
              "            title=\"Convert this dataframe to an interactive table.\"\n",
              "            style=\"display:none;\">\n",
              "\n",
              "  <svg xmlns=\"http://www.w3.org/2000/svg\" height=\"24px\" viewBox=\"0 -960 960 960\">\n",
              "    <path d=\"M120-120v-720h720v720H120Zm60-500h600v-160H180v160Zm220 220h160v-160H400v160Zm0 220h160v-160H400v160ZM180-400h160v-160H180v160Zm440 0h160v-160H620v160ZM180-180h160v-160H180v160Zm440 0h160v-160H620v160Z\"/>\n",
              "  </svg>\n",
              "    </button>\n",
              "\n",
              "  <style>\n",
              "    .colab-df-container {\n",
              "      display:flex;\n",
              "      gap: 12px;\n",
              "    }\n",
              "\n",
              "    .colab-df-convert {\n",
              "      background-color: #E8F0FE;\n",
              "      border: none;\n",
              "      border-radius: 50%;\n",
              "      cursor: pointer;\n",
              "      display: none;\n",
              "      fill: #1967D2;\n",
              "      height: 32px;\n",
              "      padding: 0 0 0 0;\n",
              "      width: 32px;\n",
              "    }\n",
              "\n",
              "    .colab-df-convert:hover {\n",
              "      background-color: #E2EBFA;\n",
              "      box-shadow: 0px 1px 2px rgba(60, 64, 67, 0.3), 0px 1px 3px 1px rgba(60, 64, 67, 0.15);\n",
              "      fill: #174EA6;\n",
              "    }\n",
              "\n",
              "    .colab-df-buttons div {\n",
              "      margin-bottom: 4px;\n",
              "    }\n",
              "\n",
              "    [theme=dark] .colab-df-convert {\n",
              "      background-color: #3B4455;\n",
              "      fill: #D2E3FC;\n",
              "    }\n",
              "\n",
              "    [theme=dark] .colab-df-convert:hover {\n",
              "      background-color: #434B5C;\n",
              "      box-shadow: 0px 1px 3px 1px rgba(0, 0, 0, 0.15);\n",
              "      filter: drop-shadow(0px 1px 2px rgba(0, 0, 0, 0.3));\n",
              "      fill: #FFFFFF;\n",
              "    }\n",
              "  </style>\n",
              "\n",
              "    <script>\n",
              "      const buttonEl =\n",
              "        document.querySelector('#df-86a47f9c-162f-46da-9975-526a8bb3bd8a button.colab-df-convert');\n",
              "      buttonEl.style.display =\n",
              "        google.colab.kernel.accessAllowed ? 'block' : 'none';\n",
              "\n",
              "      async function convertToInteractive(key) {\n",
              "        const element = document.querySelector('#df-86a47f9c-162f-46da-9975-526a8bb3bd8a');\n",
              "        const dataTable =\n",
              "          await google.colab.kernel.invokeFunction('convertToInteractive',\n",
              "                                                    [key], {});\n",
              "        if (!dataTable) return;\n",
              "\n",
              "        const docLinkHtml = 'Like what you see? Visit the ' +\n",
              "          '<a target=\"_blank\" href=https://colab.research.google.com/notebooks/data_table.ipynb>data table notebook</a>'\n",
              "          + ' to learn more about interactive tables.';\n",
              "        element.innerHTML = '';\n",
              "        dataTable['output_type'] = 'display_data';\n",
              "        await google.colab.output.renderOutput(dataTable, element);\n",
              "        const docLink = document.createElement('div');\n",
              "        docLink.innerHTML = docLinkHtml;\n",
              "        element.appendChild(docLink);\n",
              "      }\n",
              "    </script>\n",
              "  </div>\n",
              "\n",
              "\n",
              "    <div id=\"df-5bfc46d7-0e9b-47bb-a631-b238ccaf1717\">\n",
              "      <button class=\"colab-df-quickchart\" onclick=\"quickchart('df-5bfc46d7-0e9b-47bb-a631-b238ccaf1717')\"\n",
              "                title=\"Suggest charts\"\n",
              "                style=\"display:none;\">\n",
              "\n",
              "<svg xmlns=\"http://www.w3.org/2000/svg\" height=\"24px\"viewBox=\"0 0 24 24\"\n",
              "     width=\"24px\">\n",
              "    <g>\n",
              "        <path d=\"M19 3H5c-1.1 0-2 .9-2 2v14c0 1.1.9 2 2 2h14c1.1 0 2-.9 2-2V5c0-1.1-.9-2-2-2zM9 17H7v-7h2v7zm4 0h-2V7h2v10zm4 0h-2v-4h2v4z\"/>\n",
              "    </g>\n",
              "</svg>\n",
              "      </button>\n",
              "\n",
              "<style>\n",
              "  .colab-df-quickchart {\n",
              "      --bg-color: #E8F0FE;\n",
              "      --fill-color: #1967D2;\n",
              "      --hover-bg-color: #E2EBFA;\n",
              "      --hover-fill-color: #174EA6;\n",
              "      --disabled-fill-color: #AAA;\n",
              "      --disabled-bg-color: #DDD;\n",
              "  }\n",
              "\n",
              "  [theme=dark] .colab-df-quickchart {\n",
              "      --bg-color: #3B4455;\n",
              "      --fill-color: #D2E3FC;\n",
              "      --hover-bg-color: #434B5C;\n",
              "      --hover-fill-color: #FFFFFF;\n",
              "      --disabled-bg-color: #3B4455;\n",
              "      --disabled-fill-color: #666;\n",
              "  }\n",
              "\n",
              "  .colab-df-quickchart {\n",
              "    background-color: var(--bg-color);\n",
              "    border: none;\n",
              "    border-radius: 50%;\n",
              "    cursor: pointer;\n",
              "    display: none;\n",
              "    fill: var(--fill-color);\n",
              "    height: 32px;\n",
              "    padding: 0;\n",
              "    width: 32px;\n",
              "  }\n",
              "\n",
              "  .colab-df-quickchart:hover {\n",
              "    background-color: var(--hover-bg-color);\n",
              "    box-shadow: 0 1px 2px rgba(60, 64, 67, 0.3), 0 1px 3px 1px rgba(60, 64, 67, 0.15);\n",
              "    fill: var(--button-hover-fill-color);\n",
              "  }\n",
              "\n",
              "  .colab-df-quickchart-complete:disabled,\n",
              "  .colab-df-quickchart-complete:disabled:hover {\n",
              "    background-color: var(--disabled-bg-color);\n",
              "    fill: var(--disabled-fill-color);\n",
              "    box-shadow: none;\n",
              "  }\n",
              "\n",
              "  .colab-df-spinner {\n",
              "    border: 2px solid var(--fill-color);\n",
              "    border-color: transparent;\n",
              "    border-bottom-color: var(--fill-color);\n",
              "    animation:\n",
              "      spin 1s steps(1) infinite;\n",
              "  }\n",
              "\n",
              "  @keyframes spin {\n",
              "    0% {\n",
              "      border-color: transparent;\n",
              "      border-bottom-color: var(--fill-color);\n",
              "      border-left-color: var(--fill-color);\n",
              "    }\n",
              "    20% {\n",
              "      border-color: transparent;\n",
              "      border-left-color: var(--fill-color);\n",
              "      border-top-color: var(--fill-color);\n",
              "    }\n",
              "    30% {\n",
              "      border-color: transparent;\n",
              "      border-left-color: var(--fill-color);\n",
              "      border-top-color: var(--fill-color);\n",
              "      border-right-color: var(--fill-color);\n",
              "    }\n",
              "    40% {\n",
              "      border-color: transparent;\n",
              "      border-right-color: var(--fill-color);\n",
              "      border-top-color: var(--fill-color);\n",
              "    }\n",
              "    60% {\n",
              "      border-color: transparent;\n",
              "      border-right-color: var(--fill-color);\n",
              "    }\n",
              "    80% {\n",
              "      border-color: transparent;\n",
              "      border-right-color: var(--fill-color);\n",
              "      border-bottom-color: var(--fill-color);\n",
              "    }\n",
              "    90% {\n",
              "      border-color: transparent;\n",
              "      border-bottom-color: var(--fill-color);\n",
              "    }\n",
              "  }\n",
              "</style>\n",
              "\n",
              "      <script>\n",
              "        async function quickchart(key) {\n",
              "          const quickchartButtonEl =\n",
              "            document.querySelector('#' + key + ' button');\n",
              "          quickchartButtonEl.disabled = true;  // To prevent multiple clicks.\n",
              "          quickchartButtonEl.classList.add('colab-df-spinner');\n",
              "          try {\n",
              "            const charts = await google.colab.kernel.invokeFunction(\n",
              "                'suggestCharts', [key], {});\n",
              "          } catch (error) {\n",
              "            console.error('Error during call to suggestCharts:', error);\n",
              "          }\n",
              "          quickchartButtonEl.classList.remove('colab-df-spinner');\n",
              "          quickchartButtonEl.classList.add('colab-df-quickchart-complete');\n",
              "        }\n",
              "        (() => {\n",
              "          let quickchartButtonEl =\n",
              "            document.querySelector('#df-5bfc46d7-0e9b-47bb-a631-b238ccaf1717 button');\n",
              "          quickchartButtonEl.style.display =\n",
              "            google.colab.kernel.accessAllowed ? 'block' : 'none';\n",
              "        })();\n",
              "      </script>\n",
              "    </div>\n",
              "\n",
              "    </div>\n",
              "  </div>\n"
            ],
            "application/vnd.google.colaboratory.intrinsic+json": {
              "type": "dataframe",
              "repr_error": "0"
            }
          },
          "metadata": {},
          "execution_count": 87
        }
      ]
    },
    {
      "cell_type": "markdown",
      "source": [
        "### Data Preprocessing"
      ],
      "metadata": {
        "id": "Y5YEeeJ_4LRj"
      }
    },
    {
      "cell_type": "code",
      "source": [
        "dataset.isnull().sum()"
      ],
      "metadata": {
        "colab": {
          "base_uri": "https://localhost:8080/",
          "height": 397
        },
        "id": "wCoGbRmiKHgo",
        "outputId": "292e233c-a979-4db4-bdfd-b09a1652f2fc"
      },
      "execution_count": null,
      "outputs": [
        {
          "output_type": "execute_result",
          "data": {
            "text/plain": [
              "ID        0\n",
              "DATOP     0\n",
              "FLTID     0\n",
              "DEPSTN    0\n",
              "ARRSTN    0\n",
              "STD       0\n",
              "STA       0\n",
              "STATUS    0\n",
              "AC        0\n",
              "target    0\n",
              "dtype: int64"
            ],
            "text/html": [
              "<div>\n",
              "<style scoped>\n",
              "    .dataframe tbody tr th:only-of-type {\n",
              "        vertical-align: middle;\n",
              "    }\n",
              "\n",
              "    .dataframe tbody tr th {\n",
              "        vertical-align: top;\n",
              "    }\n",
              "\n",
              "    .dataframe thead th {\n",
              "        text-align: right;\n",
              "    }\n",
              "</style>\n",
              "<table border=\"1\" class=\"dataframe\">\n",
              "  <thead>\n",
              "    <tr style=\"text-align: right;\">\n",
              "      <th></th>\n",
              "      <th>0</th>\n",
              "    </tr>\n",
              "  </thead>\n",
              "  <tbody>\n",
              "    <tr>\n",
              "      <th>ID</th>\n",
              "      <td>0</td>\n",
              "    </tr>\n",
              "    <tr>\n",
              "      <th>DATOP</th>\n",
              "      <td>0</td>\n",
              "    </tr>\n",
              "    <tr>\n",
              "      <th>FLTID</th>\n",
              "      <td>0</td>\n",
              "    </tr>\n",
              "    <tr>\n",
              "      <th>DEPSTN</th>\n",
              "      <td>0</td>\n",
              "    </tr>\n",
              "    <tr>\n",
              "      <th>ARRSTN</th>\n",
              "      <td>0</td>\n",
              "    </tr>\n",
              "    <tr>\n",
              "      <th>STD</th>\n",
              "      <td>0</td>\n",
              "    </tr>\n",
              "    <tr>\n",
              "      <th>STA</th>\n",
              "      <td>0</td>\n",
              "    </tr>\n",
              "    <tr>\n",
              "      <th>STATUS</th>\n",
              "      <td>0</td>\n",
              "    </tr>\n",
              "    <tr>\n",
              "      <th>AC</th>\n",
              "      <td>0</td>\n",
              "    </tr>\n",
              "    <tr>\n",
              "      <th>target</th>\n",
              "      <td>0</td>\n",
              "    </tr>\n",
              "  </tbody>\n",
              "</table>\n",
              "</div><br><label><b>dtype:</b> int64</label>"
            ]
          },
          "metadata": {},
          "execution_count": 88
        }
      ]
    },
    {
      "cell_type": "code",
      "source": [
        "from sklearn.base import BaseEstimator, TransformerMixin\n",
        "from sklearn.pipeline import Pipeline\n",
        "class FlightDelayTransformer(BaseEstimator, TransformerMixin):\n",
        "    def __init__(self,drop_columns=None):\n",
        "        self.drop_columns=drop_columns if drop_columns is not None else ['STD', 'STA', 'DATOP', 'ID']\n",
        "    def transform(self, X, y=None):\n",
        "        # Make a copy to avoid changing the original DataFrame\n",
        "        X_ = X.copy()\n",
        "        # 1. Convert to datetime\n",
        "        X_['STD'] = pd.to_datetime(X_['STD'])\n",
        "        # 2. Fix and convert STA\n",
        "        X_['STA'] = X_['STA'].str.replace('.', ':', regex=False)\n",
        "        X_['STA'] = pd.to_datetime(X_['STA'])\n",
        "        # 3. Create the 'expected_duration' feature\n",
        "        X_[\"expected_duration\"] = (X_['STA'] - X_['STD']).dt.total_seconds() / 60\n",
        "        # 4. Drop original and unnecessary columns\n",
        "        X_.drop(columns=self.drop_columns, inplace=True)\n",
        "        # 5. Convert all remaining 'object' columns to 'category'\n",
        "        for col in X_.columns:\n",
        "            if X_[col].dtype == 'object':\n",
        "                X_[col] = X_[col].astype('category')\n",
        "        return X_\n",
        "\n",
        "\n",
        "    def fit(self, X, y=None):\n",
        "        return self # The transformer doesn't need to learn anything from the data,so we just return self.\n",
        "\n"
      ],
      "metadata": {
        "id": "t5Mp8i_aE4nh"
      },
      "execution_count": null,
      "outputs": []
    },
    {
      "cell_type": "markdown",
      "source": [
        "### Model Training"
      ],
      "metadata": {
        "id": "GGQlm6gBF8ML"
      }
    },
    {
      "cell_type": "markdown",
      "source": [
        "Here we will use LightGBM"
      ],
      "metadata": {
        "id": "eojJncLSLb5D"
      }
    },
    {
      "cell_type": "code",
      "source": [
        "from sklearn.model_selection import GridSearchCV\n",
        "from lightgbm import LGBMRegressor\n",
        "from sklearn.metrics import mean_squared_error\n",
        "from sklearn.pipeline import Pipeline\n",
        "import numpy as np\n",
        "\n",
        "X_train=dataset.drop('target',axis=1)\n",
        "y_train=dataset['target']\n",
        "\n",
        "full_pipeline = Pipeline(steps=[\n",
        "    ('feature_engineering', FlightDelayTransformer()),\n",
        "    ('model', LGBMRegressor(random_state=42))\n",
        "])\n",
        "\n",
        "param_grid = {\n",
        "    'model__n_estimators': [100, 200],\n",
        "    'model__learning_rate': [0.05, 0.1],\n",
        "    'model__num_leaves': [31, 50]\n",
        "}\n",
        "\n",
        "grid_search = GridSearchCV(full_pipeline, param_grid, cv=3, scoring='neg_mean_squared_error', n_jobs=-1) #the higher the better\n",
        "grid_search.fit(X_train, y_train)\n",
        "\n",
        "print(\"Best parameters found: \", grid_search.best_params_)\n",
        "best_rmse = np.sqrt(-grid_search.best_score_)\n",
        "print(\"Best RMSE found: \", best_rmse)"
      ],
      "metadata": {
        "colab": {
          "base_uri": "https://localhost:8080/"
        },
        "id": "x7418OxiAmEf",
        "outputId": "9387261e-2f06-4b65-a220-32b2133bceb9"
      },
      "execution_count": null,
      "outputs": [
        {
          "output_type": "stream",
          "name": "stdout",
          "text": [
            "[LightGBM] [Warning] Categorical features with more bins than the configured maximum bin number found.\n",
            "[LightGBM] [Warning] For categorical features, max_bin and max_bin_by_feature may be ignored with a large number of categories.\n",
            "[LightGBM] [Info] Auto-choosing row-wise multi-threading, the overhead of testing was 0.002238 seconds.\n",
            "You can set `force_row_wise=true` to remove the overhead.\n",
            "And if memory is not enough, you can set `force_col_wise=true`.\n",
            "[LightGBM] [Info] Total Bins 1508\n",
            "[LightGBM] [Info] Number of data points in the train set: 107833, number of used features: 6\n",
            "[LightGBM] [Info] Start training from score 48.733013\n",
            "Best parameters found:  {'model__learning_rate': 0.05, 'model__n_estimators': 100, 'model__num_leaves': 31}\n",
            "Best RMSE found:  116.47203733063424\n"
          ]
        }
      ]
    },
    {
      "cell_type": "markdown",
      "source": [
        "Here we will use XGBRegressor"
      ],
      "metadata": {
        "id": "ZqOSqs36LjPi"
      }
    },
    {
      "cell_type": "code",
      "source": [
        "from sklearn.model_selection import GridSearchCV\n",
        "from xgboost import XGBRegressor\n",
        "from sklearn.metrics import mean_squared_error\n",
        "from sklearn.pipeline import Pipeline\n",
        "import numpy as np\n",
        "\n",
        "X_train=dataset.drop('target',axis=1)\n",
        "y_train=dataset['target']\n",
        "\n",
        "full_pipeline_xgb = Pipeline(steps=[\n",
        "    ('feature_engineering', FlightDelayTransformer()),\n",
        "    ('model', XGBRegressor(random_state=42, enable_categorical=True))\n",
        "])\n",
        "\n",
        "param_grid_xgb = {\n",
        "    'model__n_estimators': [100, 200],\n",
        "    'model__learning_rate': [0.05, 0.1],\n",
        "    'model__max_depth': [3, 5, 7]\n",
        "}\n",
        "\n",
        "grid_search_xgb = GridSearchCV(full_pipeline_xgb, param_grid_xgb, cv=3, scoring='neg_mean_squared_error', n_jobs=-1)\n",
        "grid_search_xgb.fit(X_train, y_train)\n",
        "\n",
        "print(\"Best parameters found for XGBoost: \", grid_search_xgb.best_params_)\n",
        "best_rmse_xgb = np.sqrt(-grid_search_xgb.best_score_)\n",
        "print(\"Best RMSE found for XGBoost: \", best_rmse_xgb)"
      ],
      "metadata": {
        "colab": {
          "base_uri": "https://localhost:8080/"
        },
        "id": "8BFvPMSBLixm",
        "outputId": "b89a7013-4c93-406d-f64f-4d31f80a0168"
      },
      "execution_count": null,
      "outputs": [
        {
          "output_type": "stream",
          "name": "stdout",
          "text": [
            "Best parameters found for XGBoost:  {'model__learning_rate': 0.05, 'model__max_depth': 5, 'model__n_estimators': 100}\n",
            "Best RMSE found for XGBoost:  146.33613100325127\n"
          ]
        }
      ]
    },
    {
      "cell_type": "markdown",
      "source": [
        "Here we will use CatBoost"
      ],
      "metadata": {
        "id": "YSX8iQyrMpOG"
      }
    },
    {
      "cell_type": "code",
      "source": [
        "pip install -q catboost"
      ],
      "metadata": {
        "colab": {
          "base_uri": "https://localhost:8080/"
        },
        "id": "tIrFIYuDNH5x",
        "outputId": "ef2dd081-6b98-4d1c-e6af-57fc10c78dba"
      },
      "execution_count": null,
      "outputs": [
        {
          "output_type": "stream",
          "name": "stdout",
          "text": [
            "\u001b[2K   \u001b[90m━━━━━━━━━━━━━━━━━━━━━━━━━━━━━━━━━━━━━━━━\u001b[0m \u001b[32m99.2/99.2 MB\u001b[0m \u001b[31m6.2 MB/s\u001b[0m eta \u001b[36m0:00:00\u001b[0m\n",
            "\u001b[?25h"
          ]
        }
      ]
    },
    {
      "cell_type": "code",
      "source": [
        "from sklearn.model_selection import GridSearchCV\n",
        "from catboost import CatBoostRegressor\n",
        "from sklearn.pipeline import Pipeline\n",
        "import numpy as np\n",
        "import pandas as pd\n",
        "X_train = dataset.drop('target',axis=1)\n",
        "y_train = dataset['target']\n",
        "\n",
        "\n",
        "feature_transformer = FlightDelayTransformer()\n",
        "X_train_transformed = feature_transformer.fit_transform(X_train)\n",
        "categorical_features_names = list(X_train_transformed.select_dtypes(include=['category', 'object']).columns)\n",
        "\n",
        "#In the catBoost case , we need to identify explicitly the \"category\" dtype columns\n",
        "full_pipeline_catboost = Pipeline(steps=[\n",
        "    ('feature_engineering', FlightDelayTransformer()),\n",
        "    ('model', CatBoostRegressor(\n",
        "        cat_features=categorical_features_names,\n",
        "        random_state=42,\n",
        "        verbose=0) #verbose=0 tells the model to run silently\n",
        "    )\n",
        "])\n",
        "\n",
        "\n",
        "param_grid_catboost = {\n",
        "    'model__iterations': [100, 200],\n",
        "    'model__learning_rate': [0.05, 0.1],\n",
        "    'model__depth': [6, 8]\n",
        "}\n",
        "\n",
        "\n",
        "grid_search_catboost = GridSearchCV(full_pipeline_catboost, param_grid_catboost, cv=3, scoring='neg_mean_squared_error', n_jobs=-1)\n",
        "grid_search_catboost.fit(X_train, y_train)\n",
        "\n",
        "print(\"Best parameters found for CatBoost: \", grid_search_catboost.best_params_)\n",
        "best_rmse_catboost = np.sqrt(-grid_search_catboost.best_score_)\n",
        "print(\"Best RMSE found for CatBoost: \", best_rmse_catboost)"
      ],
      "metadata": {
        "colab": {
          "base_uri": "https://localhost:8080/"
        },
        "id": "_rg0MgzVMsm2",
        "outputId": "a93fbe66-cad9-48e4-95a4-1173a548f882"
      },
      "execution_count": null,
      "outputs": [
        {
          "output_type": "stream",
          "name": "stderr",
          "text": [
            "/usr/local/lib/python3.12/dist-packages/joblib/externals/loky/process_executor.py:782: UserWarning: A worker stopped while some jobs were given to the executor. This can be caused by a too short worker timeout or by a memory leak.\n",
            "  warnings.warn(\n"
          ]
        },
        {
          "output_type": "stream",
          "name": "stdout",
          "text": [
            "Best parameters found for CatBoost:  {'model__depth': 8, 'model__iterations': 200, 'model__learning_rate': 0.05}\n",
            "Best RMSE found for CatBoost:  114.52786747392142\n"
          ]
        }
      ]
    },
    {
      "cell_type": "markdown",
      "source": [
        "### Testing"
      ],
      "metadata": {
        "id": "bKpaCErLJG-h"
      }
    },
    {
      "cell_type": "code",
      "source": [
        "test_df=pd.read_csv(\"/content/Test.csv\")\n",
        "predictions = grid_search.predict(test_df)\n",
        "\n",
        "print(\"Predictions:\", predictions)"
      ],
      "metadata": {
        "colab": {
          "base_uri": "https://localhost:8080/"
        },
        "id": "fGi92b78HG6m",
        "outputId": "0ca3ceed-37ab-45fc-c002-18928dcb3518"
      },
      "execution_count": null,
      "outputs": [
        {
          "output_type": "stream",
          "name": "stdout",
          "text": [
            "Predictions: [21.34765048 74.13684447 27.48454434 ...  1.44471374  0.28900093\n",
            " -0.37193996]\n"
          ]
        }
      ]
    },
    {
      "cell_type": "code",
      "source": [
        "submission_df=pd.DataFrame({'ID':test_df['ID'],'target':predictions.round().astype(int)})\n",
        "submission_df.to_csv('submission.csv',index=False)"
      ],
      "metadata": {
        "id": "WmZgPJRAJqrh"
      },
      "execution_count": null,
      "outputs": []
    },
    {
      "cell_type": "markdown",
      "source": [
        "test using catboost results"
      ],
      "metadata": {
        "id": "pCvWXEWzQAiV"
      }
    },
    {
      "cell_type": "code",
      "source": [
        "predictions_catboost=grid_search_catboost.predict(test_df)\n",
        "submission_df_catboost=pd.DataFrame({'ID':test_df['ID'],'target':predictions_catboost.round().astype(int)})\n",
        "submission_df_catboost.to_csv('submission_catboost.csv',index=False)"
      ],
      "metadata": {
        "id": "qkA6OCkDQDOm"
      },
      "execution_count": null,
      "outputs": []
    },
    {
      "cell_type": "markdown",
      "source": [
        "Test using XGBoost results"
      ],
      "metadata": {
        "id": "s13cYQl6QYA4"
      }
    },
    {
      "cell_type": "code",
      "source": [
        "predictions_xgb=grid_search_xgb.predict(test_df)\n",
        "submission_df_xgb=pd.DataFrame({'ID':test_df['ID'],'target':predictions_xgb.round().astype(int)})\n",
        "submission_df_xgb.to_csv('submission_xgb.csv',index=False)"
      ],
      "metadata": {
        "id": "knzn4JFHQJ_H"
      },
      "execution_count": null,
      "outputs": []
    }
  ]
}